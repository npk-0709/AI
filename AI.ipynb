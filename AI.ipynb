{
 "cells": [
  {
   "cell_type": "code",
   "execution_count": 203,
   "metadata": {},
   "outputs": [],
   "source": [
    "import os\n",
    "import playsound\n",
    "import speech_recognition as sr\n",
    "import time\n",
    "import sys\n",
    "import ctypes\n",
    "import wikipedia\n",
    "import datetime\n",
    "import json\n",
    "import re\n",
    "import webbrowser\n",
    "import smtplib\n",
    "import requests\n",
    "import urllib\n",
    "import urllib.request as urllib2\n",
    "from selenium import webdriver\n",
    "from selenium.webdriver.common.keys import Keys\n",
    "from webdriver_manager.chrome import ChromeDriverManager\n",
    "from time import strftime\n",
    "from gtts import gTTS\n",
    "from youtube_search import YoutubeSearch"
   ]
  },
  {
   "cell_type": "code",
   "execution_count": 204,
   "metadata": {
    "scrolled": false
   },
   "outputs": [
    {
     "name": "stderr",
     "output_type": "stream",
     "text": [
      "[WDM] - Current google-chrome version is 84.0.4147\n",
      "[WDM] - Get LATEST driver version for 84.0.4147\n"
     ]
    },
    {
     "name": "stdout",
     "output_type": "stream",
     "text": [
      " \n"
     ]
    },
    {
     "name": "stderr",
     "output_type": "stream",
     "text": [
      "[WDM] - Driver [C:\\Users\\Night Fury\\.wdm\\drivers\\chromedriver\\win32\\84.0.4147.30\\chromedriver.exe] found in cache\n"
     ]
    }
   ],
   "source": [
    "wikipedia.set_lang('vi')\n",
    "language = 'vi'\n",
    "path = ChromeDriverManager().install()"
   ]
  },
  {
   "cell_type": "code",
   "execution_count": 205,
   "metadata": {},
   "outputs": [],
   "source": [
    "def speak(text):\n",
    "    print(\"Bot: {}\".format(text))\n",
    "    tts = gTTS(text=text, lang=language, slow=False)\n",
    "    tts.save(\"sound.mp3\")\n",
    "    playsound.playsound(\"sound.mp3\", False)\n",
    "    os.remove(\"sound.mp3\")"
   ]
  },
  {
   "cell_type": "code",
   "execution_count": 206,
   "metadata": {},
   "outputs": [],
   "source": [
    "def get_audio():\n",
    "    r = sr.Recognizer()\n",
    "    with sr.Microphone() as source:\n",
    "        print(\"Tôi: \", end='')\n",
    "        audio = r.listen(source, phrase_time_limit=5)\n",
    "        try:\n",
    "            text = r.recognize_google(audio, language=\"vi-VN\")\n",
    "            print(text)\n",
    "            return text\n",
    "        except:\n",
    "            print(\"...\")\n",
    "            return 0"
   ]
  },
  {
   "cell_type": "code",
   "execution_count": 207,
   "metadata": {},
   "outputs": [],
   "source": [
    "def stop():\n",
    "    speak(\"Hẹn gặp lại bạn sau!\")"
   ]
  },
  {
   "cell_type": "code",
   "execution_count": 208,
   "metadata": {},
   "outputs": [],
   "source": [
    "def get_text():\n",
    "    for i in range(3):\n",
    "        text = get_audio()\n",
    "        if text:\n",
    "            return text.lower()\n",
    "        elif i < 2:\n",
    "            speak(\"Bot không nghe rõ. Bạn nói lại được không!\")\n",
    "    time.sleep(2)\n",
    "    stop()\n",
    "    return 0"
   ]
  },
  {
   "cell_type": "code",
   "execution_count": 209,
   "metadata": {},
   "outputs": [],
   "source": [
    "def hello(name):\n",
    "    day_time = int(strftime('%H'))\n",
    "    if day_time < 12:\n",
    "        speak(\"Chào buổi sáng bạn {}. Chúc bạn một ngày tốt lành.\".format(name))\n",
    "    elif 12 <= day_time < 18:\n",
    "        speak(\"Chào buổi chiều bạn {}. Bạn đã dự định gì cho chiều nay chưa.\".format(name))\n",
    "    else:\n",
    "        speak(\"Chào buổi tối bạn {}. Bạn đã ăn tối chưa nhỉ.\".format(name))"
   ]
  },
  {
   "cell_type": "code",
   "execution_count": 210,
   "metadata": {},
   "outputs": [],
   "source": [
    "def get_time(text):\n",
    "    now = datetime.datetime.now()\n",
    "    if \"giờ\" in text:\n",
    "        speak('Bây giờ là %d giờ %d phút' % (now.hour, now.minute))\n",
    "    elif \"ngày\" in text:\n",
    "        speak(\"Hôm nay là ngày %d tháng %d năm %d\" %\n",
    "              (now.day, now.month, now.year))\n",
    "    else:\n",
    "        speak(\"Bot chưa hiểu ý của bạn. Bạn nói lại được không?\")"
   ]
  },
  {
   "cell_type": "code",
   "execution_count": 211,
   "metadata": {},
   "outputs": [],
   "source": [
    "def open_application(text):\n",
    "    if \"google\" in text:\n",
    "        speak(\"Mở Google Chrome\")\n",
    "        os.startfile(\n",
    "            'C:\\Program Files (x86)\\Google\\Chrome\\Application\\chrome.exe')\n",
    "    elif \"word\" in text:\n",
    "        speak(\"Mở Microsoft Word\")\n",
    "        os.startfile(\n",
    "            'C:\\Program Files\\Microsoft Office\\\\root\\Office16\\\\WINWORD.EXE')\n",
    "    elif \"excel\" in text:\n",
    "        speak(\"Mở Microsoft Excel\")\n",
    "        os.startfile(\n",
    "            'C:\\Program Files\\Microsoft Office\\\\root\\Office16\\EXCEL.EXE')\n",
    "    else:\n",
    "        speak(\"Ứng dụng chưa được cài đặt. Bạn hãy thử lại!\")"
   ]
  },
  {
   "cell_type": "code",
   "execution_count": 212,
   "metadata": {},
   "outputs": [],
   "source": [
    "def open_website(text):\n",
    "    reg_ex = re.search('mở (.+)', text)\n",
    "    if reg_ex:\n",
    "        domain = reg_ex.group(1)\n",
    "        url = 'https://www.' + domain\n",
    "        webbrowser.open(url)\n",
    "        speak(\"Trang web bạn yêu cầu đã được mở.\")\n",
    "        return True\n",
    "    else:\n",
    "        return False"
   ]
  },
  {
   "cell_type": "code",
   "execution_count": 213,
   "metadata": {},
   "outputs": [],
   "source": [
    "def open_google_and_search(text):\n",
    "    search_for = text.split(\"kiếm\", 1)[1]\n",
    "    speak('Okay!')\n",
    "    driver = webdriver.Chrome(path)\n",
    "    driver.get(\"https://www.google.com\")\n",
    "    que = driver.find_element_by_xpath(\"//input[@name='q']\")\n",
    "    que.send_keys(str(search_for))\n",
    "    que.send_keys(Keys.RETURN)"
   ]
  },
  {
   "cell_type": "code",
   "execution_count": 214,
   "metadata": {},
   "outputs": [],
   "source": [
    "def send_email(text):\n",
    "    speak('Bạn gửi email cho ai nhỉ')\n",
    "    recipient = get_text()\n",
    "    if 'yến' in recipient:\n",
    "        speak('Nội dung bạn muốn gửi là gì')\n",
    "        content = get_text()\n",
    "        mail = smtplib.SMTP('smtp.gmail.com', 587)\n",
    "        mail.ehlo()\n",
    "        mail.starttls()\n",
    "        mail.login('luongngochungcntt@gmail.com', 'hung23081997')\n",
    "        mail.sendmail('luongngochungcntt@gmail.com',\n",
    "                      'hungdhv97@gmail.com', content.encode('utf-8'))\n",
    "        mail.close()\n",
    "        speak('Email của bạn vùa được gửi. Bạn check lại email nhé hihi.')\n",
    "    else:\n",
    "        speak('Bot không hiểu bạn muốn gửi email cho ai. Bạn nói lại được không?')"
   ]
  },
  {
   "cell_type": "code",
   "execution_count": 215,
   "metadata": {},
   "outputs": [],
   "source": [
    "def current_weather():\n",
    "    speak(\"Bạn muốn xem thời tiết ở đâu ạ.\")\n",
    "    ow_url = \"http://api.openweathermap.org/data/2.5/weather?\"\n",
    "    city = get_text()\n",
    "    if not city:\n",
    "        pass\n",
    "    api_key = \"fe8d8c65cf345889139d8e545f57819a\"\n",
    "    call_url = ow_url + \"appid=\" + api_key + \"&q=\" + city + \"&units=metric\"\n",
    "    response = requests.get(call_url)\n",
    "    data = response.json()\n",
    "    if data[\"cod\"] != \"404\":\n",
    "        city_res = data[\"main\"]\n",
    "        current_temperature = city_res[\"temp\"]\n",
    "        current_pressure = city_res[\"pressure\"]\n",
    "        current_humidity = city_res[\"humidity\"]\n",
    "        suntime = data[\"sys\"]\n",
    "        sunrise = datetime.datetime.fromtimestamp(suntime[\"sunrise\"])\n",
    "        sunset = datetime.datetime.fromtimestamp(suntime[\"sunset\"])\n",
    "        wthr = data[\"weather\"]\n",
    "        weather_description = wthr[0][\"description\"]\n",
    "        now = datetime.datetime.now()\n",
    "        content = \"\"\"\n",
    "        Hôm nay là ngày {day} tháng {month} năm {year}\n",
    "        Mặt trời mọc vào {hourrise} giờ {minrise} phút\n",
    "        Mặt trời lặn vào {hourset} giờ {minset} phút\n",
    "        Nhiệt độ trung bình là {temp} độ C\n",
    "        Áp suất không khí là {pressure} héc tơ Pascal\n",
    "        Độ ẩm là {humidity}%\n",
    "        Trời hôm nay quang mây. Dự báo mưa rải rác ở một số nơi.\"\"\".format(day = now.day,month = now.month, year= now.year, hourrise = sunrise.hour, minrise = sunrise.minute,\n",
    "                                                                           hourset = sunset.hour, minset = sunset.minute, \n",
    "                                                                           temp = current_temperature, pressure = current_pressure, humidity = current_humidity)\n",
    "        speak(content)\n",
    "        time.sleep(20)\n",
    "    else:\n",
    "        speak(\"Không tìm thấy địa chỉ của bạn\")"
   ]
  },
  {
   "cell_type": "code",
   "execution_count": 233,
   "metadata": {},
   "outputs": [],
   "source": [
    "def play_song():\n",
    "    speak('Xin mời bạn chọn tên bài hát')\n",
    "    mysong = get_text()\n",
    "    while True:\n",
    "        result = YoutubeSearch(mysong, max_results=10).to_dict()\n",
    "        if result:\n",
    "            break\n",
    "    url = 'https://www.youtube.com' + result[0]['url_suffix']\n",
    "    webbrowser.open(url)\n",
    "    speak(\"Bài hát bạn yêu cầu đã được mở.\")"
   ]
  },
  {
   "cell_type": "code",
   "execution_count": 217,
   "metadata": {},
   "outputs": [],
   "source": [
    "def change_wallpaper():\n",
    "    api_key = 'RF3LyUUIyogjCpQwlf-zjzCf1JdvRwb--SLV6iCzOxw'\n",
    "    url = 'https://api.unsplash.com/photos/random?client_id=' + \\\n",
    "        api_key  # pic from unspalsh.com\n",
    "    f = urllib2.urlopen(url)\n",
    "    json_string = f.read()\n",
    "    f.close()\n",
    "    parsed_json = json.loads(json_string)\n",
    "    photo = parsed_json['urls']['full']\n",
    "    # Location where we download the image to.\n",
    "    urllib2.urlretrieve(photo, \"C:/Users/Night Fury/Downloads/a.png\")\n",
    "    image=os.path.join(\"C:/Users/Night Fury/Downloads/a.png\")\n",
    "    ctypes.windll.user32.SystemParametersInfoW(20,0,image,3)\n",
    "    speak('Hình nền máy tính vừa được thay đổi')"
   ]
  },
  {
   "cell_type": "code",
   "execution_count": 218,
   "metadata": {},
   "outputs": [],
   "source": [
    "def read_news():\n",
    "    speak(\"Bạn muốn đọc báo về gì\")\n",
    "    \n",
    "    queue = get_text()\n",
    "    params = {\n",
    "        'apiKey': '30d02d187f7140faacf9ccd27a1441ad',\n",
    "        \"q\": queue,\n",
    "    }\n",
    "    api_result = requests.get('http://newsapi.org/v2/top-headlines?', params)\n",
    "    api_response = api_result.json()\n",
    "    print(\"Tin tức\")\n",
    "\n",
    "    for number, result in enumerate(api_response['articles'], start=1):\n",
    "        print(f\"\"\"Tin {number}:\\nTiêu đề: {result['title']}\\nTrích dẫn: {result['description']}\\nLink: {result['url']}\n",
    "    \"\"\")\n",
    "        if number <= 3:\n",
    "            webbrowser.open(result['url'])"
   ]
  },
  {
   "cell_type": "code",
   "execution_count": 219,
   "metadata": {},
   "outputs": [],
   "source": [
    "def tell_me_about():\n",
    "    try:\n",
    "        speak(\"Bạn muốn nghe về gì ạ\")\n",
    "        text = get_text()\n",
    "        contents = wikipedia.summary(text).split('\\n')\n",
    "        speak(contents[0])\n",
    "        time.sleep(10)\n",
    "        for content in contents[1:]:\n",
    "            speak(\"Bạn muốn nghe thêm không\")\n",
    "            ans = get_text()\n",
    "            if \"có\" not in ans:\n",
    "                break    \n",
    "            speak(content)\n",
    "            time.sleep(10)\n",
    "\n",
    "        speak('Cảm ơn bạn đã lắng nghe!!!')\n",
    "    except:\n",
    "        speak(\"Bot không định nghĩa được thuật ngữ của bạn. Xin mời bạn nói lại\")"
   ]
  },
  {
   "cell_type": "code",
   "execution_count": 220,
   "metadata": {},
   "outputs": [],
   "source": [
    "def help_me():\n",
    "    speak(\"\"\"Bot có thể giúp bạn thực hiện các câu lệnh sau đây:\n",
    "    1. Chào hỏi\n",
    "    2. Hiển thị giờ\n",
    "    3. Mở website, application\n",
    "    4. Tìm kiếm trên Google\n",
    "    5. Gửi email\n",
    "    6. Dự báo thời tiết\n",
    "    7. Mở video nhạc\n",
    "    8. Thay đổi hình nền máy tính\n",
    "    9. Đọc báo hôm nay\n",
    "    10. Kể bạn biết về thế giới \"\"\")\n",
    "    time.sleep(20)"
   ]
  },
  {
   "cell_type": "code",
   "execution_count": 221,
   "metadata": {},
   "outputs": [],
   "source": [
    "def assistant():\n",
    "    speak(\"Xin chào, bạn tên là gì nhỉ?\")\n",
    "#     name = get_text()\n",
    "    name = \"Đoàn Văn Hậu\"\n",
    "    if name:\n",
    "        speak(\"Chào bạn {}\".format(name))\n",
    "        speak(\"Bạn cần Bot Alex có thể giúp gì ạ?\")\n",
    "        while True:\n",
    "            text = get_text()\n",
    "            if not text:\n",
    "                break\n",
    "            elif \"dừng\" in text or \"tạm biệt\" in text or \"chào robot\" in text or \"ngủ thôi\" in text:\n",
    "                stop()\n",
    "                break\n",
    "            elif \"có thể làm gì\" in text:\n",
    "                help_me()\n",
    "            elif \"chào trợ lý ảo\" in text:\n",
    "                hello(name)\n",
    "            elif \"hiện tại\" in text:\n",
    "                get_time(text)\n",
    "            elif \"mở\" in text:\n",
    "                if 'mở google và tìm kiếm' in text:\n",
    "                    open_google_and_search(text)\n",
    "                elif \".\" in text:\n",
    "                    open_website(text)\n",
    "                else:\n",
    "                    open_application(text)\n",
    "            elif \"email\" in text or \"mail\" in text or \"gmail\" in text:\n",
    "                send_email(text)\n",
    "            elif \"thời tiết\" in text:\n",
    "                current_weather()\n",
    "            elif \"chơi nhạc\" in text:\n",
    "                play_song()\n",
    "            elif \"hình nền\" in text:\n",
    "                change_wallpaper()\n",
    "            elif \"đọc báo\" in text:\n",
    "                read_news()\n",
    "            elif \"định nghĩa\" in text:\n",
    "                tell_me_about()\n",
    "            else:\n",
    "                speak(\"Bạn cần Bot giúp gì ạ?\")"
   ]
  },
  {
   "cell_type": "code",
   "execution_count": 237,
   "metadata": {},
   "outputs": [
    {
     "name": "stdout",
     "output_type": "stream",
     "text": [
      "Bot: Xin chào, bạn tên là gì nhỉ?\n",
      "Bot: Chào bạn Đoàn Văn Hậu\n",
      "Bot: Bạn cần Bot Alex có thể giúp gì ạ?\n",
      "Tôi: định nghĩa\n",
      "Bot: Bạn muốn nghe về gì ạ\n",
      "Tôi: Corona virus\n",
      "Bot: Virus corona gây hội chứng hô hấp cấp tính nặng 2, viết tắt SARS-CoV-2 (tiếng Anh: Severe acute respiratory syndrome corona virus 2), trước đây có tên là virus corona mới 2019 (2019-nCoV), là một chủng coronavirus gây ra bệnh viêm đường hô hấp cấp do virus corona 2019 (COVID-19), xuất hiện lần đầu tiên vào tháng 12 năm 2019, trong đợt bùng phát đại dịch COVID-19 ở thành phố Vũ Hán và bắt đầu lây lan nhanh chóng, sau đó trở thành một đại dịch toàn cầu. Vào ngày 12 tháng 01 năm 2020, nó được Tổ chức Y tế Thế giới gọi tên là 2019-nCoV, dựa trên một phương thức đặt tên cho virus corona mới. Đến ngày 11 tháng 2 năm 2020, Ủy ban Quốc tế về Phân loại Virus (ICTV) quyết định đặt tên chính thức cho chủng virus corona mới này là SARS-CoV-2 khi họ phân tích rằng nó cùng loài với virus SARS từng gây ra đại dịch năm 2003 nhưng là một chủng khác của loài. Virus này là một loại virus corona ARN liên kết đơn chính nghĩa. Trong khoảng thời gian đầu của đại dịch COVID-19, các nhân viên nghiên cứu đã phát hiện chủng virus này sau khi họ tiến hành đo lường kiểm tra axit nucleic và dò tra trình tự bộ gen ở mẫu vật lấy từ người bệnh.Virus corona đã biết gây ra cảm mạo cùng với các triệu chứng khá nghiêm trọng giống như Hội chứng hô hấp Trung Đông (MERS) và Hội chứng hô hấp cấp tính nghiêm trọng (SARS). SARS-CoV-2 là phân dạng của virus corona mà từ trước đây chưa bao giờ phát hiện ở trong cơ thể người.\n",
      "Bot: Bạn muốn nghe thêm không\n",
      "Tôi: ...\n",
      "Bot: Bot không nghe rõ. Bạn nói lại được không!\n",
      "Tôi: ...\n",
      "Bot: Bot không nghe rõ. Bạn nói lại được không!\n",
      "Tôi: ...\n",
      "Bot: Hẹn gặp lại bạn sau!\n",
      "Bot: Bot không định nghĩa được thuật ngữ của bạn. Xin mời bạn nói lại\n",
      "Tôi: ...\n",
      "Bot: Bot không nghe rõ. Bạn nói lại được không!\n",
      "Tôi: ...\n",
      "Bot: Bot không nghe rõ. Bạn nói lại được không!\n",
      "Tôi: ...\n",
      "Bot: Hẹn gặp lại bạn sau!\n"
     ]
    }
   ],
   "source": [
    "assistant()"
   ]
  }
 ],
 "metadata": {
  "kernelspec": {
   "display_name": "Python 3",
   "language": "python",
   "name": "python3"
  },
  "language_info": {
   "codemirror_mode": {
    "name": "ipython",
    "version": 3
   },
   "file_extension": ".py",
   "mimetype": "text/x-python",
   "name": "python",
   "nbconvert_exporter": "python",
   "pygments_lexer": "ipython3",
   "version": "3.7.6"
  }
 },
 "nbformat": 4,
 "nbformat_minor": 4
}
